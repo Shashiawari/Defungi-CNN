{
 "cells": [
  {
   "cell_type": "markdown",
   "id": "9e5b173f",
   "metadata": {},
   "source": [
    "# Automated Quality Control for Magnetic Tiles: Defect Classification using Artificial Intelligence"
   ]
  },
  {
   "cell_type": "markdown",
   "id": "5918a76c",
   "metadata": {},
   "source": [
    "## Importing Libraries"
   ]
  },
  {
   "cell_type": "code",
   "execution_count": 91,
   "id": "8d16ccef",
   "metadata": {},
   "outputs": [],
   "source": [
    "from skimage.transform import resize\n",
    "from skimage.io import imread\n",
    "import numpy as np\n",
    "import pandas as pd\n",
    "import matplotlib.pyplot as plt\n",
    "import seaborn as sns\n",
    "from imblearn.over_sampling import SMOTE\n",
    "from sklearn.model_selection import train_test_split\n",
    "from sklearn.feature_selection import SelectKBest\n",
    "from sklearn.feature_selection import f_classif\n",
    "from sklearn.metrics import accuracy_score\n",
    "from sklearn.metrics import precision_score\n",
    "from sklearn.metrics import recall_score\n",
    "from sklearn.metrics import f1_score\n",
    "from sklearn.metrics import classification_report\n",
    "from sklearn.metrics import confusion_matrix\n",
    "from skimage import io, transform\n",
    "from sklearn import preprocessing\n",
    "from sklearn.preprocessing import StandardScaler\n",
    "from sklearn.utils import resample\n",
    "from sklearn.ensemble import AdaBoostClassifier\n",
    "from sklearn.tree import DecisionTreeClassifier \n",
    "from sklearn.ensemble import VotingClassifier\n",
    "from sklearn.linear_model import LogisticRegression\n",
    "from sklearn.naive_bayes import BernoulliNB\n",
    "from sklearn.ensemble import AdaBoostClassifier\n",
    "import os\n",
    "import joblib\n",
    "import cv2"
   ]
  },
  {
   "cell_type": "code",
   "execution_count": 92,
   "id": "cd131bd1",
   "metadata": {},
   "outputs": [],
   "source": [
    "import tensorflow as tf\n",
    "from tensorflow.keras import layers, models\n",
    "from tensorflow.keras.datasets import cifar10\n",
    "from tensorflow.keras.utils import to_categorical\n",
    "import matplotlib.pyplot as plt"
   ]
  },
  {
   "cell_type": "code",
   "execution_count": 96,
   "id": "a4a45c34",
   "metadata": {},
   "outputs": [
    {
     "data": {
      "text/plain": [
       "['H0', 'H1', 'H2', 'H3', 'H5', 'H6']"
      ]
     },
     "execution_count": 96,
     "metadata": {},
     "output_type": "execute_result"
    }
   ],
   "source": [
    "path = r\"20 fungi\"\n",
    "model_folder = \"model\"\n",
    "categories = [d for d in os.listdir(path) if os.path.isdir(os.path.join(path, d))]\n",
    "categories\n"
   ]
  },
  {
   "cell_type": "code",
   "execution_count": 97,
   "id": "720a63bd",
   "metadata": {
    "scrolled": true
   },
   "outputs": [
    {
     "name": "stdout",
     "output_type": "stream",
     "text": [
      "X and Y arrays loaded successfully.\n"
     ]
    }
   ],
   "source": [
    "X_file = os.path.join(model_folder, \"X.txt.npy\")\n",
    "Y_file = os.path.join(model_folder, \"Y.txt.npy\")\n",
    "if os.path.exists(X_file) and os.path.exists(Y_file):\n",
    "    X = np.load(X_file)\n",
    "    Y = np.load(Y_file)\n",
    "    print(\"X and Y arrays loaded successfully.\")\n",
    "else:\n",
    "    X = [] # input array\n",
    "    Y = [] # output array\n",
    "    for root, dirs, directory in os.walk(path):\n",
    "        for j in range(len(directory)):\n",
    "            name = os.path.basename(root)\n",
    "            print(f'Loading category: {dirs}')\n",
    "            print(name+\" \"+root+\"/\"+directory[j])\n",
    "            if 'Thumbs.db' not in directory[j]:\n",
    "                img_array = cv2.imread(root+\"/\"+directory[j])\n",
    "                img_resized = resize(img_array, (64, 64, 3))\n",
    "                # Append the input image array to X\n",
    "                X.append(img_resized.flatten())\n",
    "                # Append the index of the category in categories list to Y\n",
    "                Y.append(categories.index(name))\n",
    "    X = np.array(X)\n",
    "    Y = np.array(Y)\n",
    "    np.save(X_file, X)\n",
    "    np.save(Y_file, Y)"
   ]
  },
  {
   "cell_type": "code",
   "execution_count": 95,
   "id": "7ccf0322",
   "metadata": {},
   "outputs": [
    {
     "data": {
      "text/html": [
       "<div>\n",
       "<style scoped>\n",
       "    .dataframe tbody tr th:only-of-type {\n",
       "        vertical-align: middle;\n",
       "    }\n",
       "\n",
       "    .dataframe tbody tr th {\n",
       "        vertical-align: top;\n",
       "    }\n",
       "\n",
       "    .dataframe thead th {\n",
       "        text-align: right;\n",
       "    }\n",
       "</style>\n",
       "<table border=\"1\" class=\"dataframe\">\n",
       "  <thead>\n",
       "    <tr style=\"text-align: right;\">\n",
       "      <th></th>\n",
       "      <th>0</th>\n",
       "      <th>1</th>\n",
       "      <th>2</th>\n",
       "      <th>3</th>\n",
       "      <th>4</th>\n",
       "      <th>5</th>\n",
       "      <th>6</th>\n",
       "      <th>7</th>\n",
       "      <th>8</th>\n",
       "      <th>9</th>\n",
       "      <th>...</th>\n",
       "      <th>12279</th>\n",
       "      <th>12280</th>\n",
       "      <th>12281</th>\n",
       "      <th>12282</th>\n",
       "      <th>12283</th>\n",
       "      <th>12284</th>\n",
       "      <th>12285</th>\n",
       "      <th>12286</th>\n",
       "      <th>12287</th>\n",
       "      <th>Target</th>\n",
       "    </tr>\n",
       "  </thead>\n",
       "  <tbody>\n",
       "    <tr>\n",
       "      <th>0</th>\n",
       "      <td>0.547637</td>\n",
       "      <td>0.566299</td>\n",
       "      <td>0.552941</td>\n",
       "      <td>0.575000</td>\n",
       "      <td>0.578064</td>\n",
       "      <td>0.570221</td>\n",
       "      <td>0.574020</td>\n",
       "      <td>0.566176</td>\n",
       "      <td>0.562255</td>\n",
       "      <td>0.550977</td>\n",
       "      <td>...</td>\n",
       "      <td>0.515319</td>\n",
       "      <td>0.495711</td>\n",
       "      <td>0.507353</td>\n",
       "      <td>0.538848</td>\n",
       "      <td>0.524632</td>\n",
       "      <td>0.530147</td>\n",
       "      <td>0.539794</td>\n",
       "      <td>0.529412</td>\n",
       "      <td>0.533981</td>\n",
       "      <td>0</td>\n",
       "    </tr>\n",
       "    <tr>\n",
       "      <th>1</th>\n",
       "      <td>0.482353</td>\n",
       "      <td>0.457230</td>\n",
       "      <td>0.475245</td>\n",
       "      <td>0.518853</td>\n",
       "      <td>0.469627</td>\n",
       "      <td>0.487132</td>\n",
       "      <td>0.572794</td>\n",
       "      <td>0.535294</td>\n",
       "      <td>0.527279</td>\n",
       "      <td>0.611152</td>\n",
       "      <td>...</td>\n",
       "      <td>0.427574</td>\n",
       "      <td>0.492819</td>\n",
       "      <td>0.440882</td>\n",
       "      <td>0.448755</td>\n",
       "      <td>0.461887</td>\n",
       "      <td>0.468873</td>\n",
       "      <td>0.534069</td>\n",
       "      <td>0.519975</td>\n",
       "      <td>0.530147</td>\n",
       "      <td>0</td>\n",
       "    </tr>\n",
       "    <tr>\n",
       "      <th>2</th>\n",
       "      <td>0.547426</td>\n",
       "      <td>0.541176</td>\n",
       "      <td>0.556863</td>\n",
       "      <td>0.537764</td>\n",
       "      <td>0.533843</td>\n",
       "      <td>0.547426</td>\n",
       "      <td>0.551348</td>\n",
       "      <td>0.549092</td>\n",
       "      <td>0.551398</td>\n",
       "      <td>0.551348</td>\n",
       "      <td>...</td>\n",
       "      <td>0.541176</td>\n",
       "      <td>0.546691</td>\n",
       "      <td>0.537255</td>\n",
       "      <td>0.542770</td>\n",
       "      <td>0.549020</td>\n",
       "      <td>0.537255</td>\n",
       "      <td>0.539794</td>\n",
       "      <td>0.549020</td>\n",
       "      <td>0.533333</td>\n",
       "      <td>0</td>\n",
       "    </tr>\n",
       "    <tr>\n",
       "      <th>3</th>\n",
       "      <td>0.519030</td>\n",
       "      <td>0.516054</td>\n",
       "      <td>0.531740</td>\n",
       "      <td>0.485417</td>\n",
       "      <td>0.490196</td>\n",
       "      <td>0.517299</td>\n",
       "      <td>0.476961</td>\n",
       "      <td>0.509926</td>\n",
       "      <td>0.497917</td>\n",
       "      <td>0.501348</td>\n",
       "      <td>...</td>\n",
       "      <td>0.566249</td>\n",
       "      <td>0.562377</td>\n",
       "      <td>0.556863</td>\n",
       "      <td>0.551471</td>\n",
       "      <td>0.543627</td>\n",
       "      <td>0.542034</td>\n",
       "      <td>0.533544</td>\n",
       "      <td>0.523162</td>\n",
       "      <td>0.524755</td>\n",
       "      <td>0</td>\n",
       "    </tr>\n",
       "    <tr>\n",
       "      <th>4</th>\n",
       "      <td>0.505882</td>\n",
       "      <td>0.511397</td>\n",
       "      <td>0.494118</td>\n",
       "      <td>0.510152</td>\n",
       "      <td>0.518505</td>\n",
       "      <td>0.498039</td>\n",
       "      <td>0.545221</td>\n",
       "      <td>0.562623</td>\n",
       "      <td>0.517819</td>\n",
       "      <td>0.568015</td>\n",
       "      <td>...</td>\n",
       "      <td>0.487868</td>\n",
       "      <td>0.542770</td>\n",
       "      <td>0.505220</td>\n",
       "      <td>0.474632</td>\n",
       "      <td>0.527941</td>\n",
       "      <td>0.490319</td>\n",
       "      <td>0.473775</td>\n",
       "      <td>0.516912</td>\n",
       "      <td>0.489461</td>\n",
       "      <td>0</td>\n",
       "    </tr>\n",
       "    <tr>\n",
       "      <th>...</th>\n",
       "      <td>...</td>\n",
       "      <td>...</td>\n",
       "      <td>...</td>\n",
       "      <td>...</td>\n",
       "      <td>...</td>\n",
       "      <td>...</td>\n",
       "      <td>...</td>\n",
       "      <td>...</td>\n",
       "      <td>...</td>\n",
       "      <td>...</td>\n",
       "      <td>...</td>\n",
       "      <td>...</td>\n",
       "      <td>...</td>\n",
       "      <td>...</td>\n",
       "      <td>...</td>\n",
       "      <td>...</td>\n",
       "      <td>...</td>\n",
       "      <td>...</td>\n",
       "      <td>...</td>\n",
       "      <td>...</td>\n",
       "      <td>...</td>\n",
       "    </tr>\n",
       "    <tr>\n",
       "      <th>9109</th>\n",
       "      <td>0.603922</td>\n",
       "      <td>0.615686</td>\n",
       "      <td>0.670588</td>\n",
       "      <td>0.599142</td>\n",
       "      <td>0.611416</td>\n",
       "      <td>0.665809</td>\n",
       "      <td>0.568627</td>\n",
       "      <td>0.594413</td>\n",
       "      <td>0.647009</td>\n",
       "      <td>0.582357</td>\n",
       "      <td>...</td>\n",
       "      <td>0.445588</td>\n",
       "      <td>0.465196</td>\n",
       "      <td>0.478504</td>\n",
       "      <td>0.431373</td>\n",
       "      <td>0.441893</td>\n",
       "      <td>0.453657</td>\n",
       "      <td>0.437623</td>\n",
       "      <td>0.443137</td>\n",
       "      <td>0.463480</td>\n",
       "      <td>4</td>\n",
       "    </tr>\n",
       "    <tr>\n",
       "      <th>9110</th>\n",
       "      <td>0.523897</td>\n",
       "      <td>0.558456</td>\n",
       "      <td>0.611765</td>\n",
       "      <td>0.516176</td>\n",
       "      <td>0.563235</td>\n",
       "      <td>0.612623</td>\n",
       "      <td>0.534999</td>\n",
       "      <td>0.574142</td>\n",
       "      <td>0.615614</td>\n",
       "      <td>0.564093</td>\n",
       "      <td>...</td>\n",
       "      <td>0.594485</td>\n",
       "      <td>0.586692</td>\n",
       "      <td>0.637623</td>\n",
       "      <td>0.596078</td>\n",
       "      <td>0.584314</td>\n",
       "      <td>0.617789</td>\n",
       "      <td>0.596078</td>\n",
       "      <td>0.590564</td>\n",
       "      <td>0.613358</td>\n",
       "      <td>4</td>\n",
       "    </tr>\n",
       "    <tr>\n",
       "      <th>9111</th>\n",
       "      <td>0.549667</td>\n",
       "      <td>0.560784</td>\n",
       "      <td>0.614740</td>\n",
       "      <td>0.560784</td>\n",
       "      <td>0.556353</td>\n",
       "      <td>0.609436</td>\n",
       "      <td>0.562255</td>\n",
       "      <td>0.538725</td>\n",
       "      <td>0.609436</td>\n",
       "      <td>0.546078</td>\n",
       "      <td>...</td>\n",
       "      <td>0.392770</td>\n",
       "      <td>0.454044</td>\n",
       "      <td>0.481495</td>\n",
       "      <td>0.378064</td>\n",
       "      <td>0.416544</td>\n",
       "      <td>0.466667</td>\n",
       "      <td>0.307475</td>\n",
       "      <td>0.346044</td>\n",
       "      <td>0.402328</td>\n",
       "      <td>4</td>\n",
       "    </tr>\n",
       "    <tr>\n",
       "      <th>9112</th>\n",
       "      <td>0.573284</td>\n",
       "      <td>0.582721</td>\n",
       "      <td>0.610172</td>\n",
       "      <td>0.535152</td>\n",
       "      <td>0.540667</td>\n",
       "      <td>0.581637</td>\n",
       "      <td>0.537255</td>\n",
       "      <td>0.553136</td>\n",
       "      <td>0.592207</td>\n",
       "      <td>0.532353</td>\n",
       "      <td>...</td>\n",
       "      <td>0.527083</td>\n",
       "      <td>0.521618</td>\n",
       "      <td>0.570221</td>\n",
       "      <td>0.518505</td>\n",
       "      <td>0.523897</td>\n",
       "      <td>0.572549</td>\n",
       "      <td>0.478431</td>\n",
       "      <td>0.513725</td>\n",
       "      <td>0.549020</td>\n",
       "      <td>4</td>\n",
       "    </tr>\n",
       "    <tr>\n",
       "      <th>9113</th>\n",
       "      <td>0.373407</td>\n",
       "      <td>0.441667</td>\n",
       "      <td>0.571814</td>\n",
       "      <td>0.363971</td>\n",
       "      <td>0.405289</td>\n",
       "      <td>0.470240</td>\n",
       "      <td>0.429289</td>\n",
       "      <td>0.484804</td>\n",
       "      <td>0.489779</td>\n",
       "      <td>0.449020</td>\n",
       "      <td>...</td>\n",
       "      <td>0.513775</td>\n",
       "      <td>0.529412</td>\n",
       "      <td>0.550686</td>\n",
       "      <td>0.480882</td>\n",
       "      <td>0.504921</td>\n",
       "      <td>0.535436</td>\n",
       "      <td>0.438480</td>\n",
       "      <td>0.476750</td>\n",
       "      <td>0.506093</td>\n",
       "      <td>4</td>\n",
       "    </tr>\n",
       "  </tbody>\n",
       "</table>\n",
       "<p>9114 rows × 12289 columns</p>\n",
       "</div>"
      ],
      "text/plain": [
       "             0         1         2         3         4         5         6  \\\n",
       "0     0.547637  0.566299  0.552941  0.575000  0.578064  0.570221  0.574020   \n",
       "1     0.482353  0.457230  0.475245  0.518853  0.469627  0.487132  0.572794   \n",
       "2     0.547426  0.541176  0.556863  0.537764  0.533843  0.547426  0.551348   \n",
       "3     0.519030  0.516054  0.531740  0.485417  0.490196  0.517299  0.476961   \n",
       "4     0.505882  0.511397  0.494118  0.510152  0.518505  0.498039  0.545221   \n",
       "...        ...       ...       ...       ...       ...       ...       ...   \n",
       "9109  0.603922  0.615686  0.670588  0.599142  0.611416  0.665809  0.568627   \n",
       "9110  0.523897  0.558456  0.611765  0.516176  0.563235  0.612623  0.534999   \n",
       "9111  0.549667  0.560784  0.614740  0.560784  0.556353  0.609436  0.562255   \n",
       "9112  0.573284  0.582721  0.610172  0.535152  0.540667  0.581637  0.537255   \n",
       "9113  0.373407  0.441667  0.571814  0.363971  0.405289  0.470240  0.429289   \n",
       "\n",
       "             7         8         9  ...     12279     12280     12281  \\\n",
       "0     0.566176  0.562255  0.550977  ...  0.515319  0.495711  0.507353   \n",
       "1     0.535294  0.527279  0.611152  ...  0.427574  0.492819  0.440882   \n",
       "2     0.549092  0.551398  0.551348  ...  0.541176  0.546691  0.537255   \n",
       "3     0.509926  0.497917  0.501348  ...  0.566249  0.562377  0.556863   \n",
       "4     0.562623  0.517819  0.568015  ...  0.487868  0.542770  0.505220   \n",
       "...        ...       ...       ...  ...       ...       ...       ...   \n",
       "9109  0.594413  0.647009  0.582357  ...  0.445588  0.465196  0.478504   \n",
       "9110  0.574142  0.615614  0.564093  ...  0.594485  0.586692  0.637623   \n",
       "9111  0.538725  0.609436  0.546078  ...  0.392770  0.454044  0.481495   \n",
       "9112  0.553136  0.592207  0.532353  ...  0.527083  0.521618  0.570221   \n",
       "9113  0.484804  0.489779  0.449020  ...  0.513775  0.529412  0.550686   \n",
       "\n",
       "         12282     12283     12284     12285     12286     12287  Target  \n",
       "0     0.538848  0.524632  0.530147  0.539794  0.529412  0.533981       0  \n",
       "1     0.448755  0.461887  0.468873  0.534069  0.519975  0.530147       0  \n",
       "2     0.542770  0.549020  0.537255  0.539794  0.549020  0.533333       0  \n",
       "3     0.551471  0.543627  0.542034  0.533544  0.523162  0.524755       0  \n",
       "4     0.474632  0.527941  0.490319  0.473775  0.516912  0.489461       0  \n",
       "...        ...       ...       ...       ...       ...       ...     ...  \n",
       "9109  0.431373  0.441893  0.453657  0.437623  0.443137  0.463480       4  \n",
       "9110  0.596078  0.584314  0.617789  0.596078  0.590564  0.613358       4  \n",
       "9111  0.378064  0.416544  0.466667  0.307475  0.346044  0.402328       4  \n",
       "9112  0.518505  0.523897  0.572549  0.478431  0.513725  0.549020       4  \n",
       "9113  0.480882  0.504921  0.535436  0.438480  0.476750  0.506093       4  \n",
       "\n",
       "[9114 rows x 12289 columns]"
      ]
     },
     "execution_count": 95,
     "metadata": {},
     "output_type": "execute_result"
    }
   ],
   "source": [
    "df = pd.DataFrame(X)\n",
    "df['Target'] = Y\n",
    "df"
   ]
  },
  {
   "cell_type": "markdown",
   "id": "61c6169f",
   "metadata": {},
   "source": [
    "## CountPlot"
   ]
  },
  {
   "cell_type": "code",
   "execution_count": 44,
   "id": "7679ef1f",
   "metadata": {},
   "outputs": [
    {
     "data": {
      "text/plain": [
       "<matplotlib.axes._subplots.AxesSubplot at 0x240c651ab48>"
      ]
     },
     "execution_count": 44,
     "metadata": {},
     "output_type": "execute_result"
    },
    {
     "data": {
      "image/png": "[encoded data removed]",
      "text/plain": [
       "<Figure size 640x480 with 1 Axes>"
      ]
     },
     "metadata": {},
     "output_type": "display_data"
    }
   ],
   "source": [
    "sns.countplot(x = Y)"
   ]
  },
  {
   "cell_type": "code",
   "execution_count": 45,
   "id": "ee0a4454",
   "metadata": {},
   "outputs": [],
   "source": [
    "# Assuming X is your feature matrix\n",
    "scaler = StandardScaler()\n",
    "X_scaled = scaler.fit_transform(X)"
   ]
  },
  {
   "cell_type": "markdown",
   "id": "ff2b52f6",
   "metadata": {},
   "source": [
    "## Data Splitting"
   ]
  },
  {
   "cell_type": "code",
   "execution_count": 64,
   "id": "b75a067f",
   "metadata": {},
   "outputs": [],
   "source": [
    "# Assuming X and y are your feature matrix and target vector\n",
    "#X_resampled, y_resampled = resample(X_scaled, Y, replace=True, n_samples=1000, random_state=42)\n",
    "from imblearn.over_sampling import SMOTE\n",
    "X, Y = SMOTE(random_state=42).fit_resample(X,Y)"
   ]
  },
  {
   "cell_type": "code",
   "execution_count": 65,
   "id": "d1c2e6ff",
   "metadata": {},
   "outputs": [
    {
     "data": {
      "text/plain": [
       "<matplotlib.axes._subplots.AxesSubplot at 0x2409ed42888>"
      ]
     },
     "execution_count": 65,
     "metadata": {},
     "output_type": "execute_result"
    },
    {
     "data": {
      "image/png": "[encoded data removed]",
      "text/plain": [
       "<Figure size 640x480 with 1 Axes>"
      ]
     },
     "metadata": {},
     "output_type": "display_data"
    }
   ],
   "source": [
    "sns.countplot(x = Y)"
   ]
  },
  {
   "cell_type": "code",
   "execution_count": 77,
   "id": "049e5f71",
   "metadata": {},
   "outputs": [],
   "source": [
    "X_train,X_test,Y_train,Y_test=train_test_split(X,Y,test_size=0.20,random_state=42)"
   ]
  },
  {
   "cell_type": "code",
   "execution_count": 78,
   "id": "ba982304",
   "metadata": {},
   "outputs": [
    {
     "data": {
      "text/plain": [
       "array([[0.37414216, 0.73333333, 0.80646063, ..., 0.2439951 , 0.50027956,\n",
       "        0.50906863],\n",
       "       [0.62745098, 0.62977941, 0.62352941, ..., 0.56535309, 0.55750996,\n",
       "        0.54901961],\n",
       "       [0.50980392, 0.63921569, 0.58431373, ..., 0.50101486, 0.5254902 ,\n",
       "        0.4627451 ],\n",
       "       ...,\n",
       "       [0.57647059, 0.57974494, 0.63529412, ..., 0.4564951 , 0.48002451,\n",
       "        0.50821078],\n",
       "       [0.56957338, 0.5254902 , 0.54117647, ..., 0.54574525, 0.5254902 ,\n",
       "        0.55294118],\n",
       "       [0.54737806, 0.51506402, 0.51824089, ..., 0.51233639, 0.59500744,\n",
       "        0.57259743]])"
      ]
     },
     "execution_count": 78,
     "metadata": {},
     "output_type": "execute_result"
    }
   ],
   "source": [
    "X_train"
   ]
  },
  {
   "cell_type": "code",
   "execution_count": 79,
   "id": "f5b1c2a7",
   "metadata": {},
   "outputs": [
    {
     "data": {
      "text/plain": [
       "array([[0.45141807, 0.47640189, 0.51380365, ..., 0.29251414, 0.34953732,\n",
       "        0.37256234],\n",
       "       [0.41727941, 0.5192402 , 0.60943627, ..., 0.49579887, 0.60625   ,\n",
       "        0.69252451],\n",
       "       [0.50196078, 0.29963235, 0.07058824, ..., 0.52781863, 0.51307828,\n",
       "        0.31605392],\n",
       "       ...,\n",
       "       [0.23817626, 0.15406251, 0.12743445, ..., 0.29199683, 0.43473088,\n",
       "        0.64053173],\n",
       "       [0.47386259, 0.45499004, 0.49803922, ..., 0.55294118, 0.45098039,\n",
       "        0.51213235],\n",
       "       [0.53088235, 0.55898055, 0.60603937, ..., 0.56173024, 0.55910309,\n",
       "        0.63667662]])"
      ]
     },
     "execution_count": 79,
     "metadata": {},
     "output_type": "execute_result"
    }
   ],
   "source": [
    "X_test"
   ]
  },
  {
   "cell_type": "code",
   "execution_count": 80,
   "id": "2e569a72",
   "metadata": {},
   "outputs": [
    {
     "data": {
      "text/plain": [
       "array([2, 0, 2, ..., 3, 0, 2])"
      ]
     },
     "execution_count": 80,
     "metadata": {},
     "output_type": "execute_result"
    }
   ],
   "source": [
    "Y_train"
   ]
  },
  {
   "cell_type": "code",
   "execution_count": 81,
   "id": "8ad898d2",
   "metadata": {},
   "outputs": [
    {
     "data": {
      "text/plain": [
       "array([4, 4, 2, ..., 2, 1, 3])"
      ]
     },
     "execution_count": 81,
     "metadata": {},
     "output_type": "execute_result"
    }
   ],
   "source": [
    "Y_test"
   ]
  },
  {
   "cell_type": "code",
   "execution_count": 82,
   "id": "ec6f72e5",
   "metadata": {},
   "outputs": [
    {
     "data": {
      "text/plain": [
       "(9336, 12288)"
      ]
     },
     "execution_count": 82,
     "metadata": {},
     "output_type": "execute_result"
    }
   ],
   "source": [
    "X_train.shape"
   ]
  },
  {
   "cell_type": "code",
   "execution_count": 83,
   "id": "68b9e56c",
   "metadata": {},
   "outputs": [
    {
     "data": {
      "text/plain": [
       "(9336,)"
      ]
     },
     "execution_count": 83,
     "metadata": {},
     "output_type": "execute_result"
    }
   ],
   "source": [
    "Y_train.shape"
   ]
  },
  {
   "cell_type": "code",
   "execution_count": 84,
   "id": "7ed1719a",
   "metadata": {},
   "outputs": [],
   "source": [
    "labels=categories"
   ]
  },
  {
   "cell_type": "markdown",
   "id": "36b47cbe",
   "metadata": {},
   "source": [
    "## Performance Evaluation"
   ]
  },
  {
   "cell_type": "code",
   "execution_count": 85,
   "id": "5dd33e4a",
   "metadata": {},
   "outputs": [],
   "source": [
    "#defining global variables to store accuracy and other metrics\n",
    "precision = []\n",
    "recall = []\n",
    "fscore = []\n",
    "accuracy = []"
   ]
  },
  {
   "cell_type": "code",
   "execution_count": 86,
   "id": "3357fd1c",
   "metadata": {},
   "outputs": [],
   "source": [
    "#function to calculate various metrics such as accuracy, precision etc\n",
    "def calculateMetrics(algorithm, predict, testY):\n",
    "    testY = testY.astype('int')\n",
    "    predict = predict.astype('int')\n",
    "    p = precision_score(testY, predict,average='macro') * 100\n",
    "    r = recall_score(testY, predict,average='macro') * 100\n",
    "    f = f1_score(testY, predict,average='macro') * 100\n",
    "    a = accuracy_score(testY,predict)*100 \n",
    "    accuracy.append(a)\n",
    "    precision.append(p)\n",
    "    recall.append(r)\n",
    "    fscore.append(f)\n",
    "    print(algorithm+' Accuracy    : '+str(a))\n",
    "    print(algorithm+' Precision   : '+str(p))\n",
    "    print(algorithm+' Recall      : '+str(r))\n",
    "    print(algorithm+' FSCORE      : '+str(f))\n",
    "    report=classification_report(predict, testY,target_names=labels)\n",
    "    print('\\n',algorithm+\" classification report\\n\",report)\n",
    "    conf_matrix = confusion_matrix(testY, predict) \n",
    "    plt.figure(figsize =(5, 5)) \n",
    "    ax = sns.heatmap(conf_matrix, xticklabels = labels, yticklabels = labels, annot = True, cmap=\"Blues\" ,fmt =\"g\");\n",
    "    ax.set_ylim([0,len(labels)])\n",
    "    plt.title(algorithm+\" Confusion matrix\") \n",
    "    plt.ylabel('True class') \n",
    "    plt.xlabel('Predicted class') \n",
    "    plt.show()"
   ]
  },
  {
   "cell_type": "markdown",
   "id": "a09db714",
   "metadata": {},
   "source": [
    "## AdaBoost Classifier"
   ]
  },
  {
   "cell_type": "code",
   "execution_count": 87,
   "id": "1212e612",
   "metadata": {},
   "outputs": [
    {
     "name": "stdout",
     "output_type": "stream",
     "text": [
      "AdaBoost Classifier model trained and model weights saved.\n",
      "AdaBoost Accuracy    : 63.15338474721508\n",
      "AdaBoost Precision   : 63.075632373094216\n",
      "AdaBoost Recall      : 63.23596862726995\n",
      "AdaBoost FSCORE      : 63.1183931167705\n",
      "\n",
      " AdaBoost classification report\n",
      "               precision    recall  f1-score   support\n",
      "\n",
      "          H0       0.56      0.57      0.56       462\n",
      "          H2       0.39      0.41      0.40       449\n",
      "          H3       0.64      0.60      0.62       493\n",
      "          H5       0.77      0.74      0.76       476\n",
      "          H6       0.79      0.83      0.81       454\n",
      "\n",
      "    accuracy                           0.63      2334\n",
      "   macro avg       0.63      0.63      0.63      2334\n",
      "weighted avg       0.63      0.63      0.63      2334\n",
      "\n"
     ]
    },
    {
     "data": {
      "image/png": "[encoded data removed]",
      "text/plain": [
       "<Figure size 500x500 with 2 Axes>"
      ]
     },
     "metadata": {},
     "output_type": "display_data"
    }
   ],
   "source": [
    "model_file = os.path.join(\"model/AdaBoost_Model.pkl\")\n",
    "\n",
    "if os.path.exists(model_file):\n",
    "    # Load the model from the pkl file\n",
    "    ada_classifier = joblib.load(model_file)\n",
    "else:\n",
    "    # Create AdaBoost Classifier\n",
    "    base_estimator = DecisionTreeClassifier()  # You can choose another estimator if needed\n",
    "    ada_classifier = AdaBoostClassifier(base_estimator=base_estimator, n_estimators=50)\n",
    "    ada_classifier.fit(X_train, Y_train)\n",
    "    # Save the model weights to a pkl file\n",
    "    joblib.dump(ada_classifier, model_file)\n",
    "    print(\"AdaBoost Classifier model trained and model weights saved.\")\n",
    "\n",
    "# Make predictions on the test data\n",
    "Y_predict = ada_classifier.predict(X_test)\n",
    "\n",
    "# Calculate and print the performance metrics\n",
    "calculateMetrics(\"AdaBoost\", Y_predict, Y_test)"
   ]
  },
  {
   "cell_type": "markdown",
   "id": "7c05465c",
   "metadata": {},
   "source": [
    "## Voting Classifier"
   ]
  },
  {
   "cell_type": "code",
   "execution_count": 90,
   "id": "f602761a",
   "metadata": {},
   "outputs": [
    {
     "ename": "FileNotFoundError",
     "evalue": "No such file: 'C:\\Users\\surya\\Downloads\\20 Fungi\\test\\13506.jpg'",
     "output_type": "error",
     "traceback": [
      "\u001b[1;31m---------------------------------------------------------------------------\u001b[0m",
      "\u001b[1;31mFileNotFoundError\u001b[0m                         Traceback (most recent call last)",
      "\u001b[1;32m~\\AppData\\Local\\Temp\\ipykernel_10360\\1983076506.py\u001b[0m in \u001b[0;36m<module>\u001b[1;34m\u001b[0m\n\u001b[0;32m      1\u001b[0m \u001b[0mpath\u001b[0m\u001b[1;33m=\u001b[0m\u001b[1;34mr\"test\\13506.jpg\"\u001b[0m\u001b[1;33m\u001b[0m\u001b[1;33m\u001b[0m\u001b[0m\n\u001b[1;32m----> 2\u001b[1;33m \u001b[0mimg\u001b[0m\u001b[1;33m=\u001b[0m\u001b[0mimread\u001b[0m\u001b[1;33m(\u001b[0m\u001b[0mpath\u001b[0m\u001b[1;33m)\u001b[0m\u001b[1;33m\u001b[0m\u001b[1;33m\u001b[0m\u001b[0m\n\u001b[0m\u001b[0;32m      3\u001b[0m \u001b[0mimg_resize\u001b[0m\u001b[1;33m=\u001b[0m\u001b[0mresize\u001b[0m\u001b[1;33m(\u001b[0m\u001b[0mimg\u001b[0m\u001b[1;33m,\u001b[0m\u001b[1;33m(\u001b[0m\u001b[1;36m64\u001b[0m\u001b[1;33m,\u001b[0m\u001b[1;36m64\u001b[0m\u001b[1;33m,\u001b[0m\u001b[1;36m3\u001b[0m\u001b[1;33m)\u001b[0m\u001b[1;33m)\u001b[0m\u001b[1;33m\u001b[0m\u001b[1;33m\u001b[0m\u001b[0m\n\u001b[0;32m      4\u001b[0m \u001b[0mimg_preprocessed\u001b[0m\u001b[1;33m=\u001b[0m\u001b[1;33m[\u001b[0m\u001b[0mimg_resize\u001b[0m\u001b[1;33m.\u001b[0m\u001b[0mflatten\u001b[0m\u001b[1;33m(\u001b[0m\u001b[1;33m)\u001b[0m\u001b[1;33m]\u001b[0m\u001b[1;33m\u001b[0m\u001b[1;33m\u001b[0m\u001b[0m\n\u001b[0;32m      5\u001b[0m \u001b[0moutput_number\u001b[0m\u001b[1;33m=\u001b[0m\u001b[0mada_classifier\u001b[0m\u001b[1;33m.\u001b[0m\u001b[0mpredict\u001b[0m\u001b[1;33m(\u001b[0m\u001b[0mimg_preprocessed\u001b[0m\u001b[1;33m)\u001b[0m\u001b[1;33m[\u001b[0m\u001b[1;36m0\u001b[0m\u001b[1;33m]\u001b[0m\u001b[1;33m\u001b[0m\u001b[1;33m\u001b[0m\u001b[0m\n",
      "\u001b[1;32mc:\\users\\surya\\appdata\\local\\programs\\python\\python37\\lib\\site-packages\\skimage\\io\\_io.py\u001b[0m in \u001b[0;36mimread\u001b[1;34m(fname, as_gray, plugin, **plugin_args)\u001b[0m\n\u001b[0;32m     46\u001b[0m \u001b[1;33m\u001b[0m\u001b[0m\n\u001b[0;32m     47\u001b[0m     \u001b[1;32mwith\u001b[0m \u001b[0mfile_or_url_context\u001b[0m\u001b[1;33m(\u001b[0m\u001b[0mfname\u001b[0m\u001b[1;33m)\u001b[0m \u001b[1;32mas\u001b[0m \u001b[0mfname\u001b[0m\u001b[1;33m:\u001b[0m\u001b[1;33m\u001b[0m\u001b[1;33m\u001b[0m\u001b[0m\n\u001b[1;32m---> 48\u001b[1;33m         \u001b[0mimg\u001b[0m \u001b[1;33m=\u001b[0m \u001b[0mcall_plugin\u001b[0m\u001b[1;33m(\u001b[0m\u001b[1;34m'imread'\u001b[0m\u001b[1;33m,\u001b[0m \u001b[0mfname\u001b[0m\u001b[1;33m,\u001b[0m \u001b[0mplugin\u001b[0m\u001b[1;33m=\u001b[0m\u001b[0mplugin\u001b[0m\u001b[1;33m,\u001b[0m \u001b[1;33m**\u001b[0m\u001b[0mplugin_args\u001b[0m\u001b[1;33m)\u001b[0m\u001b[1;33m\u001b[0m\u001b[1;33m\u001b[0m\u001b[0m\n\u001b[0m\u001b[0;32m     49\u001b[0m \u001b[1;33m\u001b[0m\u001b[0m\n\u001b[0;32m     50\u001b[0m     \u001b[1;32mif\u001b[0m \u001b[1;32mnot\u001b[0m \u001b[0mhasattr\u001b[0m\u001b[1;33m(\u001b[0m\u001b[0mimg\u001b[0m\u001b[1;33m,\u001b[0m \u001b[1;34m'ndim'\u001b[0m\u001b[1;33m)\u001b[0m\u001b[1;33m:\u001b[0m\u001b[1;33m\u001b[0m\u001b[1;33m\u001b[0m\u001b[0m\n",
      "\u001b[1;32mc:\\users\\surya\\appdata\\local\\programs\\python\\python37\\lib\\site-packages\\skimage\\io\\manage_plugins.py\u001b[0m in \u001b[0;36mcall_plugin\u001b[1;34m(kind, *args, **kwargs)\u001b[0m\n\u001b[0;32m    208\u001b[0m                                (plugin, kind))\n\u001b[0;32m    209\u001b[0m \u001b[1;33m\u001b[0m\u001b[0m\n\u001b[1;32m--> 210\u001b[1;33m     \u001b[1;32mreturn\u001b[0m \u001b[0mfunc\u001b[0m\u001b[1;33m(\u001b[0m\u001b[1;33m*\u001b[0m\u001b[0margs\u001b[0m\u001b[1;33m,\u001b[0m \u001b[1;33m**\u001b[0m\u001b[0mkwargs\u001b[0m\u001b[1;33m)\u001b[0m\u001b[1;33m\u001b[0m\u001b[1;33m\u001b[0m\u001b[0m\n\u001b[0m\u001b[0;32m    211\u001b[0m \u001b[1;33m\u001b[0m\u001b[0m\n\u001b[0;32m    212\u001b[0m \u001b[1;33m\u001b[0m\u001b[0m\n",
      "\u001b[1;32mc:\\users\\surya\\appdata\\local\\programs\\python\\python37\\lib\\site-packages\\skimage\\io\\_plugins\\imageio_plugin.py\u001b[0m in \u001b[0;36mimread\u001b[1;34m(*args, **kwargs)\u001b[0m\n\u001b[0;32m      8\u001b[0m \u001b[1;33m@\u001b[0m\u001b[0mwraps\u001b[0m\u001b[1;33m(\u001b[0m\u001b[0mimageio_imread\u001b[0m\u001b[1;33m)\u001b[0m\u001b[1;33m\u001b[0m\u001b[1;33m\u001b[0m\u001b[0m\n\u001b[0;32m      9\u001b[0m \u001b[1;32mdef\u001b[0m \u001b[0mimread\u001b[0m\u001b[1;33m(\u001b[0m\u001b[1;33m*\u001b[0m\u001b[0margs\u001b[0m\u001b[1;33m,\u001b[0m \u001b[1;33m**\u001b[0m\u001b[0mkwargs\u001b[0m\u001b[1;33m)\u001b[0m\u001b[1;33m:\u001b[0m\u001b[1;33m\u001b[0m\u001b[1;33m\u001b[0m\u001b[0m\n\u001b[1;32m---> 10\u001b[1;33m     \u001b[1;32mreturn\u001b[0m \u001b[0mnp\u001b[0m\u001b[1;33m.\u001b[0m\u001b[0masarray\u001b[0m\u001b[1;33m(\u001b[0m\u001b[0mimageio_imread\u001b[0m\u001b[1;33m(\u001b[0m\u001b[1;33m*\u001b[0m\u001b[0margs\u001b[0m\u001b[1;33m,\u001b[0m \u001b[1;33m**\u001b[0m\u001b[0mkwargs\u001b[0m\u001b[1;33m)\u001b[0m\u001b[1;33m)\u001b[0m\u001b[1;33m\u001b[0m\u001b[1;33m\u001b[0m\u001b[0m\n\u001b[0m",
      "\u001b[1;32mc:\\users\\surya\\appdata\\local\\programs\\python\\python37\\lib\\site-packages\\imageio\\__init__.py\u001b[0m in \u001b[0;36mimread\u001b[1;34m(uri, format, **kwargs)\u001b[0m\n\u001b[0;32m     95\u001b[0m     )\n\u001b[0;32m     96\u001b[0m \u001b[1;33m\u001b[0m\u001b[0m\n\u001b[1;32m---> 97\u001b[1;33m     \u001b[1;32mreturn\u001b[0m \u001b[0mimread_v2\u001b[0m\u001b[1;33m(\u001b[0m\u001b[0muri\u001b[0m\u001b[1;33m,\u001b[0m \u001b[0mformat\u001b[0m\u001b[1;33m=\u001b[0m\u001b[0mformat\u001b[0m\u001b[1;33m,\u001b[0m \u001b[1;33m**\u001b[0m\u001b[0mkwargs\u001b[0m\u001b[1;33m)\u001b[0m\u001b[1;33m\u001b[0m\u001b[1;33m\u001b[0m\u001b[0m\n\u001b[0m\u001b[0;32m     98\u001b[0m \u001b[1;33m\u001b[0m\u001b[0m\n\u001b[0;32m     99\u001b[0m \u001b[1;33m\u001b[0m\u001b[0m\n",
      "\u001b[1;32mc:\\users\\surya\\appdata\\local\\programs\\python\\python37\\lib\\site-packages\\imageio\\v2.py\u001b[0m in \u001b[0;36mimread\u001b[1;34m(uri, format, **kwargs)\u001b[0m\n\u001b[0;32m    357\u001b[0m     \u001b[0mimopen_args\u001b[0m\u001b[1;33m[\u001b[0m\u001b[1;34m\"legacy_mode\"\u001b[0m\u001b[1;33m]\u001b[0m \u001b[1;33m=\u001b[0m \u001b[1;32mTrue\u001b[0m\u001b[1;33m\u001b[0m\u001b[1;33m\u001b[0m\u001b[0m\n\u001b[0;32m    358\u001b[0m \u001b[1;33m\u001b[0m\u001b[0m\n\u001b[1;32m--> 359\u001b[1;33m     \u001b[1;32mwith\u001b[0m \u001b[0mimopen\u001b[0m\u001b[1;33m(\u001b[0m\u001b[0muri\u001b[0m\u001b[1;33m,\u001b[0m \u001b[1;34m\"ri\"\u001b[0m\u001b[1;33m,\u001b[0m \u001b[1;33m**\u001b[0m\u001b[0mimopen_args\u001b[0m\u001b[1;33m)\u001b[0m \u001b[1;32mas\u001b[0m \u001b[0mfile\u001b[0m\u001b[1;33m:\u001b[0m\u001b[1;33m\u001b[0m\u001b[1;33m\u001b[0m\u001b[0m\n\u001b[0m\u001b[0;32m    360\u001b[0m         \u001b[0mresult\u001b[0m \u001b[1;33m=\u001b[0m \u001b[0mfile\u001b[0m\u001b[1;33m.\u001b[0m\u001b[0mread\u001b[0m\u001b[1;33m(\u001b[0m\u001b[0mindex\u001b[0m\u001b[1;33m=\u001b[0m\u001b[1;36m0\u001b[0m\u001b[1;33m,\u001b[0m \u001b[1;33m**\u001b[0m\u001b[0mkwargs\u001b[0m\u001b[1;33m)\u001b[0m\u001b[1;33m\u001b[0m\u001b[1;33m\u001b[0m\u001b[0m\n\u001b[0;32m    361\u001b[0m \u001b[1;33m\u001b[0m\u001b[0m\n",
      "\u001b[1;32mc:\\users\\surya\\appdata\\local\\programs\\python\\python37\\lib\\site-packages\\imageio\\core\\imopen.py\u001b[0m in \u001b[0;36mimopen\u001b[1;34m(uri, io_mode, plugin, extension, format_hint, legacy_mode, **kwargs)\u001b[0m\n\u001b[0;32m    111\u001b[0m         \u001b[0mrequest\u001b[0m\u001b[1;33m.\u001b[0m\u001b[0mformat_hint\u001b[0m \u001b[1;33m=\u001b[0m \u001b[0mformat_hint\u001b[0m\u001b[1;33m\u001b[0m\u001b[1;33m\u001b[0m\u001b[0m\n\u001b[0;32m    112\u001b[0m     \u001b[1;32melse\u001b[0m\u001b[1;33m:\u001b[0m\u001b[1;33m\u001b[0m\u001b[1;33m\u001b[0m\u001b[0m\n\u001b[1;32m--> 113\u001b[1;33m         \u001b[0mrequest\u001b[0m \u001b[1;33m=\u001b[0m \u001b[0mRequest\u001b[0m\u001b[1;33m(\u001b[0m\u001b[0muri\u001b[0m\u001b[1;33m,\u001b[0m \u001b[0mio_mode\u001b[0m\u001b[1;33m,\u001b[0m \u001b[0mformat_hint\u001b[0m\u001b[1;33m=\u001b[0m\u001b[0mformat_hint\u001b[0m\u001b[1;33m,\u001b[0m \u001b[0mextension\u001b[0m\u001b[1;33m=\u001b[0m\u001b[0mextension\u001b[0m\u001b[1;33m)\u001b[0m\u001b[1;33m\u001b[0m\u001b[1;33m\u001b[0m\u001b[0m\n\u001b[0m\u001b[0;32m    114\u001b[0m \u001b[1;33m\u001b[0m\u001b[0m\n\u001b[0;32m    115\u001b[0m     \u001b[0msource\u001b[0m \u001b[1;33m=\u001b[0m \u001b[1;34m\"<bytes>\"\u001b[0m \u001b[1;32mif\u001b[0m \u001b[0misinstance\u001b[0m\u001b[1;33m(\u001b[0m\u001b[0muri\u001b[0m\u001b[1;33m,\u001b[0m \u001b[0mbytes\u001b[0m\u001b[1;33m)\u001b[0m \u001b[1;32melse\u001b[0m \u001b[0muri\u001b[0m\u001b[1;33m\u001b[0m\u001b[1;33m\u001b[0m\u001b[0m\n",
      "\u001b[1;32mc:\\users\\surya\\appdata\\local\\programs\\python\\python37\\lib\\site-packages\\imageio\\core\\request.py\u001b[0m in \u001b[0;36m__init__\u001b[1;34m(self, uri, mode, extension, format_hint, **kwargs)\u001b[0m\n\u001b[0;32m    245\u001b[0m \u001b[1;33m\u001b[0m\u001b[0m\n\u001b[0;32m    246\u001b[0m         \u001b[1;31m# Parse what was given\u001b[0m\u001b[1;33m\u001b[0m\u001b[1;33m\u001b[0m\u001b[1;33m\u001b[0m\u001b[0m\n\u001b[1;32m--> 247\u001b[1;33m         \u001b[0mself\u001b[0m\u001b[1;33m.\u001b[0m\u001b[0m_parse_uri\u001b[0m\u001b[1;33m(\u001b[0m\u001b[0muri\u001b[0m\u001b[1;33m)\u001b[0m\u001b[1;33m\u001b[0m\u001b[1;33m\u001b[0m\u001b[0m\n\u001b[0m\u001b[0;32m    248\u001b[0m \u001b[1;33m\u001b[0m\u001b[0m\n\u001b[0;32m    249\u001b[0m         \u001b[1;31m# Set extension\u001b[0m\u001b[1;33m\u001b[0m\u001b[1;33m\u001b[0m\u001b[1;33m\u001b[0m\u001b[0m\n",
      "\u001b[1;32mc:\\users\\surya\\appdata\\local\\programs\\python\\python37\\lib\\site-packages\\imageio\\core\\request.py\u001b[0m in \u001b[0;36m_parse_uri\u001b[1;34m(self, uri)\u001b[0m\n\u001b[0;32m    405\u001b[0m                 \u001b[1;31m# Reading: check that the file exists (but is allowed a dir)\u001b[0m\u001b[1;33m\u001b[0m\u001b[1;33m\u001b[0m\u001b[1;33m\u001b[0m\u001b[0m\n\u001b[0;32m    406\u001b[0m                 \u001b[1;32mif\u001b[0m \u001b[1;32mnot\u001b[0m \u001b[0mos\u001b[0m\u001b[1;33m.\u001b[0m\u001b[0mpath\u001b[0m\u001b[1;33m.\u001b[0m\u001b[0mexists\u001b[0m\u001b[1;33m(\u001b[0m\u001b[0mfn\u001b[0m\u001b[1;33m)\u001b[0m\u001b[1;33m:\u001b[0m\u001b[1;33m\u001b[0m\u001b[1;33m\u001b[0m\u001b[0m\n\u001b[1;32m--> 407\u001b[1;33m                     \u001b[1;32mraise\u001b[0m \u001b[0mFileNotFoundError\u001b[0m\u001b[1;33m(\u001b[0m\u001b[1;34m\"No such file: '%s'\"\u001b[0m \u001b[1;33m%\u001b[0m \u001b[0mfn\u001b[0m\u001b[1;33m)\u001b[0m\u001b[1;33m\u001b[0m\u001b[1;33m\u001b[0m\u001b[0m\n\u001b[0m\u001b[0;32m    408\u001b[0m             \u001b[1;32melse\u001b[0m\u001b[1;33m:\u001b[0m\u001b[1;33m\u001b[0m\u001b[1;33m\u001b[0m\u001b[0m\n\u001b[0;32m    409\u001b[0m                 \u001b[1;31m# Writing: check that the directory to write to does exist\u001b[0m\u001b[1;33m\u001b[0m\u001b[1;33m\u001b[0m\u001b[1;33m\u001b[0m\u001b[0m\n",
      "\u001b[1;31mFileNotFoundError\u001b[0m: No such file: 'C:\\Users\\surya\\Downloads\\20 Fungi\\test\\13506.jpg'"
     ]
    }
   ],
   "source": [
    "path=r\"test\\13506.jpg\"\n",
    "img=imread(path)\n",
    "img_resize=resize(img,(64,64,3))\n",
    "img_preprocessed=[img_resize.flatten()]\n",
    "output_number=ada_classifier.predict(img_preprocessed)[0]\n",
    "output_name=categories[output_number]\n",
    "\n",
    "plt.imshow(img)\n",
    "plt.text(10, 10, f'Predicted Output of RFC: {output_name}', color='white', fontsize=12, weight='bold', backgroundcolor='black')\n",
    "plt.axis('off')\n",
    "plt.show()"
   ]
  },
  {
   "cell_type": "code",
   "execution_count": null,
   "id": "9988c777",
   "metadata": {},
   "outputs": [],
   "source": []
  },
  {
   "cell_type": "code",
   "execution_count": null,
   "id": "f5d9357c",
   "metadata": {},
   "outputs": [],
   "source": []
  },
  {
   "cell_type": "code",
   "execution_count": null,
   "id": "5bfdbd24",
   "metadata": {},
   "outputs": [],
   "source": []
  },
  {
   "cell_type": "code",
   "execution_count": null,
   "id": "69b434a4",
   "metadata": {},
   "outputs": [],
   "source": []
  },
  {
   "cell_type": "code",
   "execution_count": null,
   "id": "898fc2ea",
   "metadata": {},
   "outputs": [],
   "source": []
  },
  {
   "cell_type": "code",
   "execution_count": null,
   "id": "dc6aa16f",
   "metadata": {},
   "outputs": [],
   "source": []
  },
  {
   "cell_type": "code",
   "execution_count": null,
   "id": "6fc00e0e",
   "metadata": {},
   "outputs": [],
   "source": []
  },
  {
   "cell_type": "code",
   "execution_count": null,
   "id": "bb1e49da",
   "metadata": {},
   "outputs": [],
   "source": []
  }
 ],
 "metadata": {
  "kernelspec": {
   "display_name": "Python 3 (ipykernel)",
   "language": "python",
   "name": "python3"
  },
  "language_info": {
   "codemirror_mode": {
    "name": "ipython",
    "version": 3
   },
   "file_extension": ".py",
   "mimetype": "text/x-python",
   "name": "python",
   "nbconvert_exporter": "python",
   "pygments_lexer": "ipython3",
   "version": "3.7.6"
  }
 },
 "nbformat": 4,
 "nbformat_minor": 5
}
